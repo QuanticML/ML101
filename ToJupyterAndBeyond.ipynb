{
 "cells": [
  {
   "cell_type": "markdown",
   "metadata": {},
   "source": [
    "# Welcome to Jupyter!\n",
    "\n",
    "Good job making it this far into the solar system.\n",
    "\n",
    "Google Colab is a free Jupyter notebook that runs in the browser via your Google account. If you want some additional resources on Colab, you can find them here:\n",
    "\n",
    "- [Welcome To Colaboratory - Colaboratory](https://colab.research.google.com/notebooks/intro.ipynb#scrollTo=5fCEDCU_qrC0)\n",
    "- [Overview of Colaboratory Features - Colaboratory](https://colab.research.google.com/notebooks/basic_features_overview.ipynb)\n",
    "\n",
    "## The Building Blocks\n",
    "Jupyter notebooks are made of two types of blocks.\n",
    "\n",
    "- Code blocks, written in Python\n",
    "- Blocks of **markdown**, a language used for rendering text that can be learned extremely quickly\n",
    "\n",
    "Being able to interweave code and rich text allows ML programmers to communicate about their code in an expressive, effective way.\n",
    "\n",
    "If possible, it's a good idea to open your Quantic lesson on a separate monitor, or split your screen vertically so you can interact with both interfaces at the same time. We'll be switching back and forth throughout this lesson. Check back in on the Quantic interface for now!"
   ]
  },
  {
   "cell_type": "markdown",
   "metadata": {},
   "source": [
    "# Markdown Blocks\n",
    "That was a **big header**.\n",
    "## This is a smaller one.\n",
    "That's *much* better.\n",
    "### Maybe an h3?\n",
    "#### It's rare to make header smaller than h4.\n",
    "\n",
    "`print(\"Not bad!\")`\n",
    "Wait, I want more code than that!\n",
    "```\n",
    "print(\"That's much more space!\")\n",
    "x = 5\n",
    "y = 8\n",
    "print(x+y)\n",
    "```\n",
    "I can even make it highlight syntax if I specify the language:\n",
    "```python\n",
    "print(\"That's much more beautiful!\")\n",
    "x = 5 # colored comments!\n",
    "y = 8 # incredible.\n",
    "print(x+y)\n",
    "```\n",
    "\n",
    "**Links** begin with their *title* in `[brackets]` and their URL in `(parentheses)`, like this: [Markdown Crash Course](https://www.youtube.com/watch?v=HUBNt18RFbo)\n",
    "\n",
    "What about some math? $y=f(x)$. Use a single `$` for inline and two `$$` for equations on a line of their own.\n",
    "\n",
    "$$\\dfrac{1}{2m} \\sum_{i=1}^{m}(f(x_i) - y_i)^2$$\n",
    "\n",
    "Math is rendered using $LaTeX$. You can learn more about it [here](https://web.mit.edu/rsi/www/pdfs/new-latex.pdf). Cool!"
   ]
  },
  {
   "cell_type": "markdown",
   "metadata": {},
   "source": [
    "## Python Code Blocks"
   ]
  },
  {
   "cell_type": "code",
   "execution_count": null,
   "metadata": {},
   "outputs": [],
   "source": [
    "# Try holding Ctrl/Cmd + Enter while your cursor's inside the block\n",
    "print(\"Beep boop! Isn't that neat?\")"
   ]
  },
  {
   "cell_type": "code",
   "execution_count": null,
   "metadata": {},
   "outputs": [],
   "source": [
    "# Try playing the block below *before* playing this one\n",
    "your_name = \"Joe\" # put your name here!"
   ]
  },
  {
   "cell_type": "code",
   "execution_count": null,
   "metadata": {},
   "outputs": [],
   "source": [
    "print(\"Hey there,\", your_name)"
   ]
  },
  {
   "cell_type": "markdown",
   "metadata": {},
   "source": [
    "## NumPy"
   ]
  },
  {
   "cell_type": "code",
   "execution_count": null,
   "metadata": {},
   "outputs": [],
   "source": [
    "# programmer convention is to abbreviate numpy as np when importing\n",
    "import numpy as # !fill this in!\n",
    "\n",
    "# NumPy arrays are Python lists with superpowers\n",
    "# create them by converting a normal list to a numpy array like so:\n",
    "# numpy_array = np.array(pylist)\n",
    "pylist = [1,2,3,4]\n",
    "numpy_array = # !create a NumPy array with pylist!\n",
    "print(f\"A Python list looks like: \\n{pylist}\\n\")\n",
    "print(f\"A NumPy array looks like: \\n{numpy_array}\\n\")\n",
    "\n",
    "# if we have more than one feature, our array becomes two dimensional\n",
    "bigger_numpy_array = np.array([[1,5],[2,6],[3,7], [4,8]])\n",
    "print(f\"A two dimensional array looks like: \\n{bigger_numpy_array}\\n\")\n",
    "print(f\"Dimensions in numpy_array: \\n{numpy_array.ndim}\\nDimensions in bigger_numpy_array: \\n{bigger_numpy_array.ndim}\\n\")\n",
    "print(f\"Shape of numpy_array: \\n{numpy_array.shape}\\nShape of bigger_numpy_array: \\n{bigger_numpy_array.shape}\\n\")"
   ]
  },
  {
   "cell_type": "code",
   "execution_count": null,
   "metadata": {},
   "outputs": [],
   "source": [
    "numpy_array = np.array([1,2,3,4])\n",
    "# you can access an item in a NumPy array via its index, seen below\n",
    "print(numpy_array[0], numpy_array)\n",
    "numpy_array[0] = 2\n",
    "print(numpy_array[0], numpy_array)\n",
    "# fill in the following line to change the third item to 8\n",
    "# (remember the list is zero-indexed)\n",
    "numpy_array[] = \n",
    "print(numpy_array)"
   ]
  },
  {
   "cell_type": "code",
   "execution_count": null,
   "metadata": {},
   "outputs": [],
   "source": [
    "numpy_array = np.array([1,2,3,4])\n",
    "second_np_array = np.array([2,4,6,8])\n",
    "\n",
    "# increase each item in the array by a single number\n",
    "array_addition = numpy_array + 5\n",
    "print(array_addition)\n",
    "\n",
    "# multiply each item in the array by a single number\n",
    "array_product = numpy_array * 5\n",
    "print(array_product)\n",
    "\n",
    "# add two arrays with each other\n",
    "arrays_added = numpy_array + second_np_array\n",
    "print(arrays_added)\n",
    "\n",
    "# and multiply arrays with each other\n",
    "arrays_multiplied = numpy_array * second_np_array\n",
    "print(arrays_multiplied)\n",
    "\n",
    "# look at the output for array-on-array operations,\n",
    "# ensure you understand the gist of how they work!\n",
    "\n",
    "# sum adds each item in the array into a single sum\n",
    "print(numpy_array.sum())\n",
    "\n",
    "# the size attribute tells us how many items are in our array\n",
    "# this will be useful to find m, our count of training examples, later on\n",
    "print(numpy_array.size)"
   ]
  },
  {
   "cell_type": "markdown",
   "metadata": {},
   "source": [
    "## The Dot Product\n",
    "One important bit of math we've got to cover is the dot product.\n",
    "\n",
    "It simply means to multiply two arrays with each other, then sum each product until you're left with a single number. It's used in many places in ML to combine sets of numbers into a single value. Think of it like a sci-fi laser gun that condenses its target from two sets of numbers all the way into just one number.\n",
    "\n",
    "Note: The number of rows in the first array must match the number of columns in the second array for the dot product to work."
   ]
  },
  {
   "cell_type": "code",
   "execution_count": null,
   "metadata": {},
   "outputs": [],
   "source": [
    "a1 = np.array([1,2,3])\n",
    "a2 = np.array([2,3,4])\n",
    "# first we'll do it by hand\n",
    "product = a1 * a2\n",
    "dot_product = product.sum()\n",
    "print(dot_product)\n",
    "# there are two fast and easy ways to do this with numpy\n",
    "# with the inbuilt function:\n",
    "print(np.dot(a1,a2))\n",
    "# or with the @ operator:\n",
    "print(a1 @ a2)"
   ]
  },
  {
   "cell_type": "markdown",
   "metadata": {},
   "source": [
    "## MatPlotLib\n",
    "Our next library, Matplotlib, is simpler.\n",
    "\n",
    "We'll use Pyplot, Matplotlib's set of graphing functions, to graph our data."
   ]
  },
  {
   "cell_type": "code",
   "execution_count": null,
   "metadata": {},
   "outputs": [],
   "source": [
    "import matplotlib.pyplot as plt\n",
    "\n",
    "# our first example is a scatter plot\n",
    "# we need coordinates for x and y data\n",
    "x_data = np.array([1,4,2,3,5,9,7])\n",
    "y_data = np.array([2,1,4,7,3,4,8])\n",
    "plt.scatter(x_data,y_data)"
   ]
  },
  {
   "cell_type": "code",
   "execution_count": null,
   "metadata": {},
   "outputs": [],
   "source": [
    "# to graph a line instead of a scatter, use plot\n",
    "plt.plot(x_data,y_data)"
   ]
  },
  {
   "cell_type": "markdown",
   "metadata": {},
   "source": [
    "We can also plot equations. For this example, we'll generate some values for $x$ using the NumPy function np.linspace(). The function takes the start, stop, and number of values as arguments and returns an array with numbers spaced out evenly between the start and stop values. (Unlike similar functions in Python, the 'stop' argument of np.linspace() is inclusive. In other words, np.linspace() will stop after it outputs the stop value.) To get our $y$-values, we'll perform math operations on those $x$-values. The plt.plot function then creates a graph from those two arrays."
   ]
  },
  {
   "cell_type": "code",
   "execution_count": null,
   "metadata": {},
   "outputs": [],
   "source": [
    "x_data = np.linspace(1,10,10) # from 1-10, give us 10 numbers\n",
    "plt.plot(x_data, 1.5 * x_data + 5) # what's the function?"
   ]
  },
  {
   "cell_type": "markdown",
   "metadata": {},
   "source": [
    "Finally, let's learn how to label graphs. Thoughtfully documenting your work enables others to quickly comprehend it and build on it!"
   ]
  },
  {
   "cell_type": "code",
   "execution_count": null,
   "metadata": {},
   "outputs": [],
   "source": [
    "x_data = np.linspace(1,10,10) # from 1-10, give us 10 numbers\n",
    "plt.plot(x_data, 2*x_data**4, color=\"purple\", label=\"Our Rocket\")\n",
    "plt.plot(x_data, x_data**4, color=\"gold\", label=\"Our Competitor's Rocket\")\n",
    "plt.title(\"Spaceflight to Jupiter\")\n",
    "plt.legend()\n",
    "plt.xlabel(\"Time Since Liftoff (in minutes)\")\n",
    "plt.ylabel(\"Altitude (in miles)\")"
   ]
  },
  {
   "cell_type": "markdown",
   "metadata": {},
   "source": [
    "## Scikit Learn\n",
    "Our final library is the ultra high-powered ML toolkit SciKit Learn. SciKit is built on top of NumPy and Matplotlib, so it integrates very easily with what we're doing.\n",
    "\n",
    "For our first project in the next lesson, we'll implement the learning algorithms from scratch to best understand them, but SciKit Learn can automate most of the most popular ML tasks.\n",
    "\n",
    "To begin getting acquainted with the library, we'll use the Train-Test Split module to separate our data into training and test sets.\n",
    "\n",
    "We'll also provide an optional playground with SciKit's inbuilt regression constructor, which will allow you to randomly generate datasets with linear relationships to practice more linear regression."
   ]
  },
  {
   "cell_type": "code",
   "execution_count": null,
   "metadata": {},
   "outputs": [],
   "source": [
    "from sklearn.model_selection import train_test_split\n",
    "import numpy as np\n",
    "\n",
    "all_X = np.array([1,2,3,4,5,6,7,8,9,10])\n",
    "all_y = np.array([1,2,3,4,5,6,7,8,9,10])\n",
    "#random_state is a seed value for replicating results\n",
    "prepared_data = train_test_split(all_X, all_y, test_size=0.3, random_state=3242) \n",
    "print(prepared_data)\n",
    "# unpack these arrays for easier access\n",
    "X_train, X_test, y_train, y_test = prepared_data\n",
    "print(f\"Features of our training set: {X_train}\")"
   ]
  },
  {
   "cell_type": "markdown",
   "metadata": {},
   "source": [
    "## Putting It All Together\n",
    "Now we'll put what we've just learned to use and graph a scatter plot of our ML 101 Grade Predictor data. After that's done, we'll be well prepared to fit a linear regression model to it in the next lesson."
   ]
  },
  {
   "cell_type": "code",
   "execution_count": null,
   "metadata": {},
   "outputs": [],
   "source": [
    "# turn these two lists into NumPy arrays named X and y, respectively\n",
    "py_X = [10,24,37,51,65,79,88]\n",
    "py_y = [57,66,79,75,90,87,98]\n",
    "\n",
    "# !!CODE HERE!!\n",
    "\n",
    "# use train_test_split to separate the X and y data\n",
    "X_train, X_test, y_train, y_test = # !!CODE HERE!!\n",
    "\n",
    "# create two scatter plots, m1 and m2, that graph training and testing sets\n",
    "# give them different colors and labels\n",
    "m1 = plt.scatter() # !!CODE HERE!!\n",
    "m2 = plt.scatter() # !!CODE HERE!!\n",
    "\n",
    "# title the graph \"ML 101 Grade Predictor\" and show the legend\n",
    "# then label x and y axes \"Minutes studied\" and \"Smartcase grade,\" respectively\n",
    "# !!CODE HERE!!"
   ]
  },
  {
   "cell_type": "markdown",
   "metadata": {},
   "source": [
    "## Further Practice\n",
    "As we all know, coding skills are developed by actually coding. With that in mind, here are some ways you can take what we've learned today a little further. If anything failed to stick, or you're overwhelmed by anything in the next lesson, feel free to come back here and practice!"
   ]
  },
  {
   "cell_type": "code",
   "execution_count": null,
   "metadata": {},
   "outputs": [],
   "source": [
    "from sklearn import datasets\n",
    "\n",
    "# if you want to play with scikit, you can also make a random regression problem like so:\n",
    "X, y = datasets.make_regression(n_samples=100, n_features=1, noise=20, random_state=4)\n",
    "# try graphing this data instead of our grade predictor data for added practice!\n",
    "\n",
    "# try creating a train_test split for this data\n",
    "\n",
    "# also try coming up with your own values for slope and intercept, such as:\n",
    "w = .5\n",
    "b = 53\n",
    "plt.plot(X, w * X + b)\n",
    "# you can overlay them on top of the scatter plot to start getting a feel for linear regression!"
   ]
  }
 ],
 "metadata": {
  "language_info": {
   "name": "python"
  },
  "orig_nbformat": 4
 },
 "nbformat": 4,
 "nbformat_minor": 2
}
